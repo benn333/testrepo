{
 "cells": [
  {
   "cell_type": "markdown",
   "id": "a02f96fa-9579-4052-8cb6-02cee6dfc7b1",
   "metadata": {},
   "source": [
    "# My Jupyter notebook on IBM Watson Studio"
   ]
  },
  {
   "cell_type": "markdown",
   "id": "18907f5d-259f-42be-8c11-6d958189cfba",
   "metadata": {},
   "source": [
    "**Ben Nahorney**<br>\n",
    "Threat Intelligence Analyst"
   ]
  },
  {
   "cell_type": "markdown",
   "id": "7f9c97d7-fab4-432d-8bc4-169e4cca7acc",
   "metadata": {},
   "source": [
    "*My interest in data science began as the amount of data I work with in my current role began to increase. Learning more about the foundations of data science should help me to produce better metrics and tell better data-focused stories.*"
   ]
  },
  {
   "cell_type": "markdown",
   "id": "26a49b9b-1607-43bc-809a-362ca19f5eca",
   "metadata": {},
   "source": [
    "### My code will take the variables \"foo\" and \"bar\" and add them together. Since each variable equals 1, the resulting value will be 2."
   ]
  },
  {
   "cell_type": "code",
   "execution_count": 4,
   "id": "9f210c68-1072-4251-a669-16d5e67850f8",
   "metadata": {},
   "outputs": [
    {
     "data": {
      "text/plain": [
       "2"
      ]
     },
     "execution_count": 4,
     "metadata": {},
     "output_type": "execute_result"
    }
   ],
   "source": [
    "foo = 1\n",
    "bar = 1\n",
    "foo + bar"
   ]
  },
  {
   "cell_type": "markdown",
   "id": "58bb7164-904a-4f03-a158-27017d031ef4",
   "metadata": {},
   "source": [
    "*** \n",
    "~strikethrough~\n",
    "- bullet 1\n",
    "- bullet 2\n",
    "- bullet 3\n"
   ]
  }
 ],
 "metadata": {
  "kernelspec": {
   "display_name": "Python",
   "language": "python",
   "name": "conda-env-python-py"
  },
  "language_info": {
   "codemirror_mode": {
    "name": "ipython",
    "version": 3
   },
   "file_extension": ".py",
   "mimetype": "text/x-python",
   "name": "python",
   "nbconvert_exporter": "python",
   "pygments_lexer": "ipython3",
   "version": "3.7.12"
  }
 },
 "nbformat": 4,
 "nbformat_minor": 5
}
